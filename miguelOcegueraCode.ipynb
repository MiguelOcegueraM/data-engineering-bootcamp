{
 "cells": [
  {
   "cell_type": "markdown",
   "source": [
    "# How Many commercial chains are monitored, and therefore, included in this database?"
   ],
   "metadata": {}
  },
  {
   "cell_type": "code",
   "execution_count": 5,
   "source": [
    "import numpy as np\r\n",
    "import pandas as pd\r\n",
    "\r\n",
    "df = pd.read_csv(\"data/sample.csv\")\r\n",
    "\r\n",
    "print(df[\"cadenaComercial\"].value_counts())"
   ],
   "outputs": [
    {
     "output_type": "stream",
     "name": "stdout",
     "text": [
      "COMERCIAL MEXICANA    1508\n",
      "WAL-MART               287\n",
      "I.S.S.S.T.E.           195\n",
      "ABASTECEDORA LUMEN       9\n",
      "Name: cadenaComercial, dtype: int64\n"
     ]
    }
   ],
   "metadata": {}
  },
  {
   "cell_type": "markdown",
   "source": [
    "# What are the top 10 monitored products by State?"
   ],
   "metadata": {}
  },
  {
   "cell_type": "code",
   "execution_count": 72,
   "source": [
    "import numpy as np\r\n",
    "import pandas as pd\r\n",
    "\r\n",
    "df = pd.read_csv(\"data/sample.csv\")\r\n",
    "top = 10\r\n",
    "#print(df[\"producto\"].value_counts()[:top].index.tolist())\r\n",
    "#test = df.groupby(['estado', 'producto'])['producto'].agg(['count'])\r\n",
    "\r\n",
    "test = df.groupby(['estado','producto'])['producto'].count().sort_values(ascending=False)\r\n",
    "print(test)"
   ],
   "outputs": [
    {
     "output_type": "stream",
     "name": "stdout",
     "text": [
      "estado            producto               \n",
      "MÉXICO            REFRESCO                   26\n",
      "DISTRITO FEDERAL  DETERGENTE P/ROPA          25\n",
      "MÉXICO            DETERGENTE P/ROPA          24\n",
      "DISTRITO FEDERAL  LECHE ULTRAPASTEURIZADA    23\n",
      "                  REFRESCO                   22\n",
      "                                             ..\n",
      "                  HARINA DE MAIZ              1\n",
      "MÉXICO            ACLORAL                     1\n",
      "                  ILOSONE CAPSULAS            1\n",
      "DISTRITO FEDERAL  CIRUELA PASA                1\n",
      "                  METAMIZOL SODICO            1\n",
      "Name: producto, Length: 546, dtype: int64\n"
     ]
    }
   ],
   "metadata": {}
  }
 ],
 "metadata": {
  "orig_nbformat": 4,
  "language_info": {
   "name": "python",
   "version": "3.8.8",
   "mimetype": "text/x-python",
   "codemirror_mode": {
    "name": "ipython",
    "version": 3
   },
   "pygments_lexer": "ipython3",
   "nbconvert_exporter": "python",
   "file_extension": ".py"
  },
  "kernelspec": {
   "name": "python3",
   "display_name": "Python 3.8.8 64-bit ('base': conda)"
  },
  "interpreter": {
   "hash": "ee1d33568b6cd7be3e7f9fa2ed8a2d8c6ff69a29be720ade9950cecc52ea0bdd"
  }
 },
 "nbformat": 4,
 "nbformat_minor": 2
}